{
 "cells": [
  {
   "cell_type": "code",
   "execution_count": 7,
   "metadata": {},
   "outputs": [
    {
     "name": "stdout",
     "output_type": "stream",
     "text": [
      "1.25 3.018072289156626\n"
     ]
    }
   ],
   "source": [
    "# print(1.0/(3/5+2/5*2/3))\n",
    "# print((1/1.67-3/5)/(2/5))\n",
    "print(1.0/(2/5+3/5*2/3),(3/5)/(1/1.67-2/5))"
   ]
  },
  {
   "cell_type": "code",
   "execution_count": 8,
   "metadata": {},
   "outputs": [
    {
     "name": "stdout",
     "output_type": "stream",
     "text": [
      "6.0\n"
     ]
    }
   ],
   "source": [
    "print((9/10)/(1/4-1/10))"
   ]
  },
  {
   "cell_type": "code",
   "execution_count": 14,
   "metadata": {},
   "outputs": [
    {
     "name": "stdout",
     "output_type": "stream",
     "text": [
      "736\n"
     ]
    }
   ],
   "source": [
    "# https://docs.python.org/2/library/string.html#grammar-token-format-spec\n",
    "print(\"{:d}\".format(0x2e0))"
   ]
  },
  {
   "cell_type": "code",
   "execution_count": 2,
   "metadata": {},
   "outputs": [
    {
     "name": "stdout",
     "output_type": "stream",
     "text": [
      "4294967296 -32768\n"
     ]
    }
   ],
   "source": [
    "print(2**32,-2**15)"
   ]
  },
  {
   "attachments": {},
   "cell_type": "markdown",
   "metadata": {},
   "source": [
    "cs_app"
   ]
  },
  {
   "cell_type": "code",
   "execution_count": 27,
   "metadata": {},
   "outputs": [
    {
     "name": "stdout",
     "output_type": "stream",
     "text": [
      "0b0.0001100110011001100110011001100110011001100110011001101\n"
     ]
    },
    {
     "data": {
      "text/plain": [
       "'0.00000000000000000000000'"
      ]
     },
     "execution_count": 27,
     "metadata": {},
     "output_type": "execute_result"
    }
   ],
   "source": [
    "# 2.46\n",
    "from binary_fractions import Binary\n",
    "# print(\"{0:b}\".format(1.0/10*2**23))\n",
    "print(str(Binary(1.0/10*2**23)>>23))\n",
    "(\"{0:.23f}\".format(0.0001100110011001100110011001100110011001100110011001101-0.0001100110011001100110))"
   ]
  },
  {
   "cell_type": "code",
   "execution_count": 8,
   "metadata": {},
   "outputs": [
    {
     "name": "stdout",
     "output_type": "stream",
     "text": [
      "5.722045898493011e-07\n"
     ]
    },
    {
     "data": {
      "text/plain": [
       "2.059936523457484"
      ]
     },
     "execution_count": 8,
     "metadata": {},
     "output_type": "execute_result"
    }
   ],
   "source": [
    "# https://www.omnicalculator.com/math/binary-fraction\n",
    "print((0.1-0.09999942779541016))\n",
    "(0.1-0.09999942779541016)*100*3600*10\n",
    "# 应该用 循环小数 书本答案是对的"
   ]
  },
  {
   "cell_type": "code",
   "execution_count": 28,
   "metadata": {},
   "outputs": [
    {
     "name": "stdout",
     "output_type": "stream",
     "text": [
      " 0b010010100\n",
      "         0b1101011001000101000001 \n",
      " 0b01001010010101100100010100000100\n"
     ]
    }
   ],
   "source": [
    "# https://www.rapidtables.com/convert/number/hex-to-binary.html\n",
    "# 2.48\n",
    "# 1101011001000101000001\n",
    "\n",
    "# https://stackoverflow.com/questions/16926130/convert-to-binary-and-keep-leading-zeros\n",
    "print(' '+\"{:#011b}\".format(0x00359141.bit_length()-1+2**(8-1)-1))\n",
    "print(' '*8,bin(0x00359141),'\\n',\"{:#034b}\".format(0x4A564504))"
   ]
  },
  {
   "cell_type": "code",
   "execution_count": 65,
   "metadata": {},
   "outputs": [
    {
     "name": "stdout",
     "output_type": "stream",
     "text": [
      "0b0.0001100110011001100110011001100110011001100110011001101\n",
      "15\n",
      "2147483647\n"
     ]
    }
   ],
   "source": [
    "# 2.51\n",
    "import re\n",
    "print(str(Binary(0.1)))\n",
    "# 53\n",
    "print(re.sub('\\..*','',str(Binary(1.8*10308)).lstrip('0b')).__len__())\n",
    "# \n",
    "print(2**31-1)"
   ]
  },
  {
   "cell_type": "code",
   "execution_count": 3,
   "metadata": {},
   "outputs": [
    {
     "name": "stdout",
     "output_type": "stream",
     "text": [
      "0x3039\n"
     ]
    }
   ],
   "source": [
    "# 2.55\n",
    "print(hex(12345))"
   ]
  },
  {
   "cell_type": "code",
   "execution_count": 7,
   "metadata": {},
   "outputs": [],
   "source": [
    "# import numpy\n",
    "# numpy.longdouble?"
   ]
  },
  {
   "cell_type": "code",
   "execution_count": 2,
   "metadata": {},
   "outputs": [
    {
     "name": "stdout",
     "output_type": "stream",
     "text": [
      "1073741825 8388609 16777217\n",
      "100010011000000000000000000000000110000010000000000000000100000\n",
      "77\n",
      "809500705\n"
     ]
    }
   ],
   "source": [
    "# 2.89\n",
    "# import numpy\n",
    "dx=(2**30+1)\n",
    "dy=(2**23+1)\n",
    "dz=(2**24+1)\n",
    "print(dx,dy,dz)\n",
    "# dy=numpy.float128(2**23+1)\n",
    "# dz=numpy.float128(2**24+1)\n",
    "print(\"{0:b}\".format(0x44c0000030400020));\n",
    "print(0b10001001100-(2**10-1))\n",
    "print(0b110000010000000000000000100001)"
   ]
  },
  {
   "cell_type": "code",
   "execution_count": 1,
   "metadata": {},
   "outputs": [
    {
     "name": "stdout",
     "output_type": "stream",
     "text": [
      "00000000000000000000000010000000 1000000010010010000111111011011000000000\n",
      "00000000010010010000111111011011 01000000010010010000111111011011\n"
     ]
    }
   ],
   "source": [
    "# 2.91\n",
    "# tmp = 0x40490FDB<<(32-23)\n",
    "# tmp = 0b10010010000111111011011\n",
    "print(\"{0:032b} {1:032b}\\n{2:032b} {3:032b}\".format(0x40490FDB>>23,0x40490FDB<<(32-23),0x40490FDB & 0x7FFFFF,0x40490FDB))"
   ]
  },
  {
   "cell_type": "code",
   "execution_count": 5,
   "metadata": {},
   "outputs": [
    {
     "name": "stdout",
     "output_type": "stream",
     "text": [
      "4095\n",
      "0000000000000000000011111111111100000000000000000000000000000000\n",
      "00000000100001000100101100110010\n",
      "839a9c\n"
     ]
    }
   ],
   "source": [
    "# 2.95\n",
    "print(\"{0:d}\\n{1:064b}\\n{2:032b}\\n{3:x}\".format(0xFFF,17587891077120,0b100001000100101100110010,8624796&0x7FFFFFFF))"
   ]
  }
 ],
 "metadata": {
  "kernelspec": {
   "display_name": "base",
   "language": "python",
   "name": "python3"
  },
  "language_info": {
   "codemirror_mode": {
    "name": "ipython",
    "version": 3
   },
   "file_extension": ".py",
   "mimetype": "text/x-python",
   "name": "python",
   "nbconvert_exporter": "python",
   "pygments_lexer": "ipython3",
   "version": "3.10.6"
  },
  "orig_nbformat": 4,
  "vscode": {
   "interpreter": {
    "hash": "a70fa6791f3273031288e5319b7afb9c439487f702d3343dba61f1f406b792c1"
   }
  }
 },
 "nbformat": 4,
 "nbformat_minor": 2
}
